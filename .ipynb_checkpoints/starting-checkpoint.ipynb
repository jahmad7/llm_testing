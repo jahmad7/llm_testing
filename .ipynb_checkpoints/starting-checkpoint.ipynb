{
 "cells": [
  {
   "cell_type": "code",
   "execution_count": 1,
   "id": "124cb264-53ac-4b5b-90f2-ccac4ab65b04",
   "metadata": {},
   "outputs": [
    {
     "data": {
      "text/plain": [
       "True"
      ]
     },
     "execution_count": 1,
     "metadata": {},
     "output_type": "execute_result"
    }
   ],
   "source": [
    "from dotenv import load_dotenv\n",
    "import os\n",
    "\n",
    "load_dotenv()\n",
    "\n",
    "#https://python.langchain.com/docs/get_started/quickstart"
   ]
  },
  {
   "cell_type": "code",
   "execution_count": 4,
   "id": "f9ea620b-a50c-4472-ada7-ec0731d623a0",
   "metadata": {},
   "outputs": [
    {
     "data": {
      "text/plain": [
       "AIMessage(content='Langsmith can help with testing in several ways:\\n\\n1. Automated Testing: Langsmith can be used to write automated tests for software applications, allowing for faster and more reliable testing processes.\\n\\n2. Test Data Generation: Langsmith can be used to generate test data for different scenarios, helping to ensure thorough testing coverage.\\n\\n3. Performance Testing: Langsmith can be used to simulate different load and stress conditions on a system, helping to identify performance bottlenecks and optimize performance.\\n\\n4. Integration Testing: Langsmith can be used to test the integration of different components or systems, ensuring that they work together seamlessly.\\n\\n5. Regression Testing: Langsmith can be used to automate regression testing, ensuring that new code changes do not introduce any unintended bugs or issues.\\n\\nOverall, Langsmith can help streamline the testing process, improve test coverage, and ensure the reliability and quality of software applications.', response_metadata={'token_usage': {'completion_tokens': 176, 'prompt_tokens': 15, 'total_tokens': 191}, 'model_name': 'gpt-3.5-turbo', 'system_fingerprint': 'fp_3bc1b5746c', 'finish_reason': 'stop', 'logprobs': None})"
      ]
     },
     "execution_count": 4,
     "metadata": {},
     "output_type": "execute_result"
    }
   ],
   "source": [
    "from langchain_openai import ChatOpenAI\n",
    "\n",
    "llm = ChatOpenAI()\n",
    "\n",
    "llm.invoke(\"how can langsmith help with testing?\")\n"
   ]
  },
  {
   "cell_type": "code",
   "execution_count": null,
   "id": "ee613214-bcc0-4d48-8c28-5c2370fb2d83",
   "metadata": {},
   "outputs": [],
   "source": [
    "#You can also use prompts"
   ]
  },
  {
   "cell_type": "code",
   "execution_count": 5,
   "id": "16ac40af-ed3c-4017-a349-da4c3021cec3",
   "metadata": {},
   "outputs": [
    {
     "data": {
      "text/plain": [
       "AIMessage(content='Langsmith is a powerful tool that can significantly enhance the testing process in several ways. Here are some ways in which Langsmith can help with testing:\\n\\n1. Automated Test Generation: Langsmith can automatically generate test cases based on the language specifications provided. This can save a significant amount of time and effort in creating test cases manually.\\n\\n2. Test Coverage Analysis: Langsmith can analyze the coverage of tests generated against the language specifications. This helps in identifying any gaps in the testing process and ensures comprehensive test coverage.\\n\\n3. Regression Testing: Langsmith can be used to automatically generate regression test cases whenever there are changes in the language specifications. This helps in ensuring that existing functionality is not affected by new changes.\\n\\n4. Fuzz Testing: Langsmith can be used for fuzz testing by generating random and invalid inputs to test the robustness of the system. This can help in uncovering potential vulnerabilities and security issues.\\n\\n5. Test Oracles: Langsmith can be used to automatically generate test oracles based on the language specifications. These oracles can be used to determine the expected behavior of the system and compare it with the actual output during testing.\\n\\nOverall, Langsmith can streamline the testing process, improve test coverage, and help in identifying and fixing issues early in the development cycle.', response_metadata={'token_usage': {'completion_tokens': 256, 'prompt_tokens': 27, 'total_tokens': 283}, 'model_name': 'gpt-3.5-turbo', 'system_fingerprint': 'fp_3bc1b5746c', 'finish_reason': 'stop', 'logprobs': None})"
      ]
     },
     "execution_count": 5,
     "metadata": {},
     "output_type": "execute_result"
    }
   ],
   "source": [
    "from langchain_core.prompts import ChatPromptTemplate\n",
    "prompt = ChatPromptTemplate.from_messages([\n",
    "    (\"system\", \"You are world class technical documentation writer.\"),\n",
    "    (\"user\", \"{input}\")\n",
    "])\n",
    "\n",
    "chain = prompt | llm \n",
    "\n",
    "chain.invoke({\"input\": \"how can langsmith help with testing?\"})"
   ]
  },
  {
   "cell_type": "code",
   "execution_count": null,
   "id": "23c4bee9-a4db-45d0-acbf-57c5b55558f3",
   "metadata": {},
   "outputs": [],
   "source": [
    "#The output of a ChatModel (and therefore, of this chain) is a message. However, it's often much more convenient to work with strings. \n",
    "#Let's add a simple output parser to convert the chat message to a string."
   ]
  },
  {
   "cell_type": "code",
   "execution_count": 6,
   "id": "6264fb17-93e1-45ab-84c2-5223c6ac493e",
   "metadata": {},
   "outputs": [
    {
     "data": {
      "text/plain": [
       "'Langsmith can be a valuable tool for testing in various ways:\\n\\n1. **Automation Testing**: Langsmith can be used to automate the generation of test cases for different scenarios, helping to increase test coverage and ensure more thorough testing of the software.\\n\\n2. **Data Generation**: Langsmith can generate realistic and diverse data sets to be used in testing, ensuring that the software is tested with a wide range of inputs and conditions.\\n\\n3. **Boundary Testing**: Langsmith can be used to generate edge cases and boundary conditions for testing, helping to uncover potential bugs or vulnerabilities in the software.\\n\\n4. **Performance Testing**: Langsmith can simulate real-world usage patterns and load on the software, helping to identify performance bottlenecks and optimize the software for better performance.\\n\\n5. **Regression Testing**: Langsmith can generate test cases to be used for regression testing, ensuring that new changes or updates do not introduce new bugs or issues in the software.\\n\\nBy leveraging Langsmith for testing purposes, teams can improve the efficiency and effectiveness of their testing processes, leading to higher quality software and better overall user experience.'"
      ]
     },
     "execution_count": 6,
     "metadata": {},
     "output_type": "execute_result"
    }
   ],
   "source": [
    "from langchain_core.output_parsers import StrOutputParser\n",
    "\n",
    "output_parser = StrOutputParser()\n",
    "\n",
    "chain = prompt | llm | output_parser\n",
    "\n",
    "chain.invoke({\"input\": \"how can langsmith help with testing?\"})"
   ]
  },
  {
   "cell_type": "code",
   "execution_count": null,
   "id": "858efa82-f071-48a8-888c-4a11b2f0625f",
   "metadata": {},
   "outputs": [],
   "source": []
  }
 ],
 "metadata": {
  "kernelspec": {
   "display_name": "Python 3 (ipykernel)",
   "language": "python",
   "name": "python3"
  },
  "language_info": {
   "codemirror_mode": {
    "name": "ipython",
    "version": 3
   },
   "file_extension": ".py",
   "mimetype": "text/x-python",
   "name": "python",
   "nbconvert_exporter": "python",
   "pygments_lexer": "ipython3",
   "version": "3.11.8"
  }
 },
 "nbformat": 4,
 "nbformat_minor": 5
}
